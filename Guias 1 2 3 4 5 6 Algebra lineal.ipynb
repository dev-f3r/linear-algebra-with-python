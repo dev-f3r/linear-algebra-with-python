{
 "cells": [
  {
   "cell_type": "code",
   "execution_count": 1,
   "id": "c5d4792d-0a2f-4247-8b5e-451532de42f6",
   "metadata": {},
   "outputs": [],
   "source": [
    "import numpy as np\n",
    "import sympy as sp\n",
    "from math import inf"
   ]
  },
  {
   "cell_type": "markdown",
   "id": "33813122-e079-43ed-a7bf-fa9323a98f70",
   "metadata": {},
   "source": [
    "## Codigo para escalonado de matrices"
   ]
  },
  {
   "cell_type": "code",
   "execution_count": 12,
   "id": "a843f689-4add-4384-b727-d8261b1ed673",
   "metadata": {},
   "outputs": [
    {
     "name": "stdout",
     "output_type": "stream",
     "text": [
      "[[-1. -2. -3.]\n",
      " [ 0.  2.  6.]\n",
      " [ 0.  0.  6.]\n",
      " [ 0.  0.  0.]\n",
      " [ 0.  0.  0.]]\n"
     ]
    }
   ],
   "source": [
    "def i_non_null(R):\n",
    "    \"\"\"\n",
    "    Find the index of the first non-null element in a row.\n",
    "\n",
    "    Args:\n",
    "        R (numpy.ndnp.array): The row.\n",
    "\n",
    "    Returns:\n",
    "        int: The index of the first non-null element.\n",
    "    \"\"\"\n",
    "    # Use argmax to find the index of the first non-zero element\n",
    "    i = np.argmax(R != 0)\n",
    "\n",
    "    return i if R[i] != 0 else inf\n",
    "\n",
    "def is_echelon_form(M):\n",
    "    \"\"\"\n",
    "    Check if a matrix is in echelon form.\n",
    "\n",
    "    Args:\n",
    "        M (numpy.ndnp.array): The matrix.\n",
    "\n",
    "    Returns:\n",
    "        bool: True if the matrix is in echelon form, False otherwise.\n",
    "    \"\"\"\n",
    "    # TODO: Revert changes\n",
    "    # Iterate through the rows of the matrix, except last\n",
    "    for i in range(M.shape[0] - 1):\n",
    "        c_r = M[i] # Current row\n",
    "        n_r = M[i + 1] # Next row\n",
    "\n",
    "        c_r_nnv = np.argmax(c_r != 0) # Index current row first non null val\n",
    "        n_r_nnv = np.argmax(n_r != 0) # Index next row first non null val\n",
    "\n",
    "        # If the rows are null, means that the end of the matrix is reached, so is no need to verify nothing\n",
    "        # The matrix is in echelon form\n",
    "        if np.all(c_r == 0) and np.all(n_r == 0):\n",
    "            return True\n",
    "\n",
    "        # The first non-zero element of a row must be at the left of the first non-zero element of the next row.\n",
    "        if c_r_nnv >= n_r_nnv:\n",
    "            return False\n",
    "\n",
    "    return True\n",
    "\n",
    "def pivot_row_index(M, i, j):\n",
    "    \"\"\"\n",
    "    Find the index of the row with the pivot element.\n",
    "\n",
    "    Args:\n",
    "        M (numpy.ndnp.array): The matrix.\n",
    "        i (int): The current row index.\n",
    "        j (int): The current column index.\n",
    "\n",
    "    Returns:\n",
    "        int: The index of the row with the pivot element.\n",
    "    \"\"\"\n",
    "    mi_val = inf\n",
    "    mi_i = None\n",
    "    for n in range(i, len(M)):\n",
    "        row = M[n]\n",
    "        val = abs(row[j])\n",
    "        if val == 1:\n",
    "            return n\n",
    "        if val and val < mi_val:\n",
    "            mi_val = val\n",
    "            mi_i = n\n",
    "    return mi_i\n",
    "\n",
    "def move_pivot_row_to_top(M, i, j):\n",
    "    \"\"\"\n",
    "    Move the pivot row to the top.\n",
    "\n",
    "    Args:\n",
    "        M (numpy.ndnp.array): The matrix.\n",
    "        i (int): The current row index.\n",
    "        j (int): The current column index.\n",
    "\n",
    "    Returns:\n",
    "        numpy.ndnp.array: The matrix with the pivot row moved to the top.\n",
    "    \"\"\"\n",
    "    p = pivot_row_index(M, i, j)\n",
    "    if p:\n",
    "        M[[i, p]] = M[[p, i]]\n",
    "    return M\n",
    "\n",
    "def move_null_rows_to_bottom(M):\n",
    "    \"\"\"\n",
    "    Move null rows to the bottom.\n",
    "\n",
    "    Args:\n",
    "        M (numpy.ndnp.array): The matrix.\n",
    "\n",
    "    Returns:\n",
    "        numpy.ndnp.array: The matrix with null rows moved to the bottom.\n",
    "    \"\"\"\n",
    "    null_row_indices = np.where(~M.any(axis=1))[0]\n",
    "    M = np.delete(M, null_row_indices, axis=0)\n",
    "    null_rows = np.zeros((len(null_row_indices), M.shape[1]))\n",
    "    M = np.concatenate((M, null_rows))\n",
    "    return M\n",
    "\n",
    "def echelon_form(X):\n",
    "    \"\"\"\n",
    "    Convert a matrix to echelon form. Using Gaussian elimination\n",
    "\n",
    "    Args:\n",
    "        X (numpy.ndnp.array): The matrix.\n",
    "\n",
    "    Returns:\n",
    "        numpy.ndnp.array: The matrix in echelon form.\n",
    "    \"\"\"\n",
    "    M = np.copy(X)\n",
    "    p = 0\n",
    "    r = M.shape[0]\n",
    "    c = M.shape[1]\n",
    "    M = move_pivot_row_to_top(M, 0, 0)\n",
    "    for i in range(r - 1):\n",
    "        c_row = M[i]\n",
    "        for j in range(i + 1, r):\n",
    "            n_row = M[j]\n",
    "            x, y = c_row[p], n_row[p]\n",
    "            if y != 0:\n",
    "                if x == -y:\n",
    "                    M[j] = c_row + n_row\n",
    "                else:\n",
    "                    k = -y / x\n",
    "                    M[j] = c_row * k + n_row\n",
    "        M = move_null_rows_to_bottom(M)\n",
    "        if is_echelon_form(M):\n",
    "            return M\n",
    "        p += 1 if p < c - 1 else 0\n",
    "        M = move_pivot_row_to_top(M, i + 1, p)\n",
    "    return M\n",
    "\n",
    "D = np.array(\n",
    "    [\n",
    "        [0, 0, 6],\n",
    "        [2, 0, -6],\n",
    "        [0, 2, 6],\n",
    "        [-1, -2, -3],\n",
    "        [1, 2, 3],\n",
    "    ]\n",
    ")\n",
    "\n",
    "print(echelon_form(D))"
   ]
  },
  {
   "cell_type": "markdown",
   "id": "3ab1d4ac-1f5e-4a77-a61d-3de745f0b81d",
   "metadata": {},
   "source": [
    "# Unidad 1\n",
    "\n",
    "## Ejercicio 5\n",
    "Dadas las siguientes matrices:"
   ]
  },
  {
   "cell_type": "code",
   "execution_count": null,
   "id": "8e3d78fe-3eb5-4f35-9a18-e7b0578fc5cf",
   "metadata": {},
   "outputs": [],
   "source": [
    "A = np.array([\n",
    "    [-2, 0],\n",
    "    [1, -1],\n",
    "    [-3, 2]])\n",
    "B = np.array([\n",
    "    [3, -3],\n",
    "    [0, 3],\n",
    "    [-3, 3]])\n",
    "C = np.array([\n",
    "    [2, 3, 1],\n",
    "    [1, 3, 2]])\n",
    "D = np.array([\n",
    "    [1, 3, 5],\n",
    "    [2, 4, 6],\n",
    "    [0, -1, 2]])\n",
    "E = np.array([\n",
    "    [2, -4],\n",
    "    [1, 0]])"
   ]
  },
  {
   "cell_type": "markdown",
   "id": "6763f881-9df6-4279-b1ad-b1011097d83e",
   "metadata": {},
   "source": [
    "Realizar, si es posible, las siguientes operaciones, indicando el orden de la matriz resultante:"
   ]
  },
  {
   "cell_type": "markdown",
   "id": "e090528b-f7dc-4c6e-a356-111fffea8ad7",
   "metadata": {},
   "source": [
    "- $A + \\frac{1}{3}B$"
   ]
  },
  {
   "cell_type": "code",
   "execution_count": null,
   "id": "818314cf-f82b-4a38-816a-318ea6322517",
   "metadata": {},
   "outputs": [],
   "source": [
    "A + (1/3) * B"
   ]
  },
  {
   "cell_type": "markdown",
   "id": "a6706a3a-4cd3-45f2-841f-c64219649630",
   "metadata": {},
   "source": [
    "- $C^T + B$"
   ]
  },
  {
   "cell_type": "code",
   "execution_count": null,
   "id": "c77b7b30-4a62-41ec-bc2d-b95ebf7999c3",
   "metadata": {},
   "outputs": [],
   "source": [
    "C.T + B"
   ]
  },
  {
   "cell_type": "markdown",
   "id": "bdf64c86-c022-42f9-bcc1-cb685eb24e46",
   "metadata": {},
   "source": [
    "- $C \\cdot A - E^T$"
   ]
  },
  {
   "cell_type": "code",
   "execution_count": null,
   "id": "a50159d1-2a44-4d34-81ed-f9e8dcc30a9e",
   "metadata": {},
   "outputs": [],
   "source": [
    "C @ A - E.T"
   ]
  },
  {
   "cell_type": "markdown",
   "id": "f91b036c-66e8-49ab-83d0-bda41d82ad83",
   "metadata": {},
   "source": [
    "- $(A+B)\\cdot C$"
   ]
  },
  {
   "cell_type": "code",
   "execution_count": null,
   "id": "5657a036-36d0-4868-9778-c0e26993db4d",
   "metadata": {},
   "outputs": [],
   "source": [
    "(A + B) @ C"
   ]
  },
  {
   "cell_type": "markdown",
   "id": "84bc8e64-9e10-459c-a79c-d6290a0802d6",
   "metadata": {},
   "source": [
    "- $B\\cdot C + D^T$"
   ]
  },
  {
   "cell_type": "code",
   "execution_count": null,
   "id": "2a09c4a9-0ee2-4c5a-87f1-5e62a2de6927",
   "metadata": {},
   "outputs": [],
   "source": [
    "(B @ C) + D.T"
   ]
  },
  {
   "cell_type": "markdown",
   "id": "68fc350c-aff2-46a4-ac5e-49fb055a4588",
   "metadata": {},
   "source": [
    "## Ejercicio 6\n",
    "Calcular el determinante, si es posible, de las siguientes matrices:"
   ]
  },
  {
   "cell_type": "code",
   "execution_count": null,
   "id": "87587bda-668f-45a6-87d4-bd336548c562",
   "metadata": {},
   "outputs": [],
   "source": [
    "A = np.array([\n",
    "    [2, 0],\n",
    "    [1, 2]])\n",
    "B = np.array([\n",
    "    [4, -3],\n",
    "    [2, -1]])\n",
    "C = np.array([\n",
    "    [3, 2, 1],\n",
    "    [0, 1, 3],\n",
    "    [-3, 4, -2]])\n",
    "D = np.array([\n",
    "    [3, 0, 2, 1],\n",
    "    [1, 1, 0, 3],\n",
    "    [0, 2, 4, 4]])\n",
    "E = np.array([\n",
    "    [1, 1, -1, 0],\n",
    "    [0, 1, 1, 1],\n",
    "    [0, 1, 0, -3],\n",
    "    [-1, 1, 2, 0]])\n",
    "F = np.array([\n",
    "    [2, 4, -1, 2],\n",
    "    [1, 0, 1, -1],\n",
    "    [0, 2, -1, -1],\n",
    "    [1, -2, 1, 0]])"
   ]
  },
  {
   "cell_type": "markdown",
   "id": "66e391b9-a7ac-48f5-998c-98efe862905d",
   "metadata": {},
   "source": [
    "Determinantes:"
   ]
  },
  {
   "cell_type": "code",
   "execution_count": null,
   "id": "f4af4034-08bc-4e78-8d4a-eda6e2453c77",
   "metadata": {},
   "outputs": [],
   "source": [
    "print(f\"det(A) = {np.linalg.det(A)}\\tdet(B) = {np.linalg.det(B)}\\tdet(C) = {np.linalg.det(C):.1f}\\tdet(E) = {np.linalg.det(E)}\\tdet(F) = {np.linalg.det(F)}\")"
   ]
  },
  {
   "cell_type": "markdown",
   "id": "7b91b5ea-a5f2-4942-9f0e-0dbdc6933f74",
   "metadata": {},
   "source": [
    "## Ejercicio 8\n",
    "Calcular el rango de las siguientes matrices por escalonamiento:"
   ]
  },
  {
   "cell_type": "code",
   "execution_count": null,
   "id": "ed1b6cd1-2794-470e-8128-a2b2dbc447d4",
   "metadata": {},
   "outputs": [],
   "source": [
    "A = np.array([\n",
    "    [1, -1, -1],\n",
    "    [0, 1, 0],\n",
    "    [1, 1, 0]])\n",
    "B = np.array([\n",
    "    [1, 2, 3, 0],\n",
    "    [-1, 2, -3, 1],\n",
    "    [2, 0, 6, -1]])\n",
    "C = np.array([\n",
    "    [-1, 2, -1, 0],\n",
    "    [0, -1, 2, 1],\n",
    "    [-1, 1, 1, 1],\n",
    "    [-1, 0, 3, 2]])\n",
    "D = np.array([\n",
    "    [1, 2, 3],\n",
    "    [0, 2, 6],\n",
    "    [-1, -2, -3],\n",
    "    [0, 0, 6],\n",
    "    [2, 0, -6]])"
   ]
  },
  {
   "cell_type": "markdown",
   "id": "7f9f2115-51d1-4777-ac5c-054fbd6cf176",
   "metadata": {},
   "source": [
    "Rangos:"
   ]
  },
  {
   "cell_type": "code",
   "execution_count": null,
   "id": "a1411128-ede8-4cb8-904c-412b15b094f0",
   "metadata": {},
   "outputs": [],
   "source": [
    "print(f\"rg(A) = {rank(A)}\\trg(B) = {rank(B)}\\trg(C) = {rank(C)}\\trg(D) = {rank(D)}\")"
   ]
  },
  {
   "cell_type": "markdown",
   "id": "6d2a2d6b-d4b9-4bf0-b9f5-f68b0374d04c",
   "metadata": {},
   "source": [
    "## Ejercicio 10\n",
    "1) Clasificar usando el teorema de Rouchê Frobenius.\n",
    "2) Determinar el conjunto solución aplicando el Método de eliminación de Gauss."
   ]
  },
  {
   "cell_type": "code",
   "execution_count": null,
   "id": "1fbd96f2-069b-420c-823b-54cf6b80c587",
   "metadata": {},
   "outputs": [],
   "source": [
    "def roucheFrobenius(sol):\n",
    "    if not sol:\n",
    "        return \"Sistema compatible indeterminado\"\n",
    "    else:\n",
    "        return \"Sistema compatible determinado\"\n",
    "\n",
    "def conj_sol(sol):\n",
    "    s = \"\"\n",
    "    ln = len(sol.values())\n",
    "    val_list = list(sol.values()) \n",
    "\n",
    "    for i in range(ln):\n",
    "        val = val_list[i]\n",
    "        if i == ln - 1:\n",
    "            s += f\"{val}\"\n",
    "        else:\n",
    "            s += f\"{val}, \"\n",
    "    return s\n",
    "\n",
    "x, y, z = symbols('x y z')\n",
    "\n",
    "A = (\n",
    "    Eq(x - y, 0),\n",
    "    Eq(x + 3*y, 4),\n",
    "    Eq(4*x - 2*y, 3)\n",
    ")\n",
    "sol_A = solve(A, (x, y)) # Soluciones infinitas\n",
    "print(f\"a) S = {solve(A, (x, y))}\")\n",
    "\n",
    "B = (\n",
    "    Eq(x - 3*y + 2*z, 5),\n",
    "    Eq(x + 2*y + 3*z, 7),\n",
    "    Eq(2*x - y + z, 4)\n",
    ")\n",
    "sol_B = solve(B, (x, y, z))\n",
    "conj_B = conj_sol(sol_B)\n",
    "clas_B = roucheFrobenius(sol_B)\n",
    "\n",
    "print(f\"b) {clas_B}\\n\\tS = ({conj_B})\")"
   ]
  }
 ],
 "metadata": {
  "kernelspec": {
   "display_name": "Python 3 (ipykernel)",
   "language": "python",
   "name": "python3"
  },
  "language_info": {
   "codemirror_mode": {
    "name": "ipython",
    "version": 3
   },
   "file_extension": ".py",
   "mimetype": "text/x-python",
   "name": "python",
   "nbconvert_exporter": "python",
   "pygments_lexer": "ipython3",
   "version": "3.8.10"
  }
 },
 "nbformat": 4,
 "nbformat_minor": 5
}
